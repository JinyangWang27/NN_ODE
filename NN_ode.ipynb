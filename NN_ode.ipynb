{
  "nbformat": 4,
  "nbformat_minor": 0,
  "metadata": {
    "colab": {
      "name": "NN_ode.ipynb",
      "provenance": [],
      "authorship_tag": "ABX9TyMk+L4EJET27HuFjOB3SGRm",
      "include_colab_link": true
    },
    "kernelspec": {
      "name": "python3",
      "display_name": "Python 3"
    },
    "language_info": {
      "name": "python"
    }
  },
  "cells": [
    {
      "cell_type": "markdown",
      "metadata": {
        "id": "view-in-github",
        "colab_type": "text"
      },
      "source": [
        "<a href=\"https://colab.research.google.com/github/JinyangWang27/NN_ODE/blob/main/NN_ode.ipynb\" target=\"_parent\"><img src=\"https://colab.research.google.com/assets/colab-badge.svg\" alt=\"Open In Colab\"/></a>"
      ]
    },
    {
      "cell_type": "code",
      "execution_count": 1,
      "metadata": {
        "id": "B2OQiWMCfT9g"
      },
      "outputs": [],
      "source": [
        "import autograd.numpy as np\n",
        "from autograd import grad, elementwise_grad\n",
        "import autograd.numpy.random as npr\n",
        "from autograd.misc.optimizers import adam\n",
        "import matplotlib.pyplot as plt\n",
        "plt.rc('axes', grid=True)"
      ]
    },
    {
      "cell_type": "code",
      "source": [
        "def init_random_params(scale, layer_sizes, rs=npr.RandomState(0)):\n",
        "    \"\"\"Build a list of (weights, biases) tuples, one for each layer.\"\"\"\n",
        "    return [(rs.randn(insize, outsize) * scale,   # weight matrix\n",
        "             rs.randn(outsize) * scale)           # bias vector\n",
        "            for insize, outsize in zip(layer_sizes[:-1], layer_sizes[1:])]"
      ],
      "metadata": {
        "id": "en8sdkFKfYB8"
      },
      "execution_count": 2,
      "outputs": []
    },
    {
      "cell_type": "code",
      "source": [
        "def swish(x):\n",
        "    \"see https://arxiv.org/pdf/1710.05941.pdf\"\n",
        "    return x / (1.0 + np.exp(-x))"
      ],
      "metadata": {
        "id": "uGdOcxG-faXG"
      },
      "execution_count": 3,
      "outputs": []
    },
    {
      "cell_type": "code",
      "source": [
        "def f(params, inputs):\n",
        "    \"Neural network functions\"\n",
        "    for W, b in params:\n",
        "        outputs = np.dot(inputs, W) + b\n",
        "        inputs = swish(outputs)    \n",
        "    return outputs"
      ],
      "metadata": {
        "id": "ebW5t_b5feIu"
      },
      "execution_count": 4,
      "outputs": []
    },
    {
      "cell_type": "code",
      "source": [
        "# Here is our initial guess of params:\n",
        "params = init_random_params(0.1, layer_sizes=[1, 10, 10, 1])\n",
        "\n",
        "# Derivatives\n",
        "fp = elementwise_grad(f, 1)\n",
        "fpp = elementwise_grad(fp, 1)\n",
        "# fppp = elementwise_grad(fpp, 1)\n",
        "\n",
        "x = np.linspace(0, 6).reshape((-1, 1))"
      ],
      "metadata": {
        "id": "1crY3uWbfgbE"
      },
      "execution_count": 33,
      "outputs": []
    },
    {
      "cell_type": "code",
      "source": [
        "np.shape(np.linspace(0, 6, 100))"
      ],
      "metadata": {
        "colab": {
          "base_uri": "https://localhost:8080/"
        },
        "id": "wfDRISABp-S8",
        "outputId": "f5736b87-8a3b-402d-ee10-50a0b089f005"
      },
      "execution_count": 26,
      "outputs": [
        {
          "output_type": "execute_result",
          "data": {
            "text/plain": [
              "(100,)"
            ]
          },
          "metadata": {},
          "execution_count": 26
        }
      ]
    },
    {
      "cell_type": "code",
      "source": [
        "def objective(params, step):\n",
        "    # These should all be zero at the solution\n",
        "    # f'' + 1 * f' + f = 0, f(0) = 0, f(6) = 1\n",
        "    zeq =  fpp(params, x)  + 1 * fp(params, x)  + f(params, x) \n",
        "    bc0 = f(params, 0.0) - 0 # equal to zero at solution\n",
        "    bc1 = fp(params, 6.0) + 1 # equal to zero at solution\n",
        "    # bc2 = fp(params, 1.0) - 1.0 # this is the one at \"infinity\"\n",
        "    return np.mean(zeq**2) + bc0**2 + bc1**2 #+ bc2**2"
      ],
      "metadata": {
        "id": "VoYIFPpnfhVp"
      },
      "execution_count": 34,
      "outputs": []
    },
    {
      "cell_type": "code",
      "source": [
        "def callback(params, step, g):\n",
        "    if step % 100 == 0:\n",
        "        print(\"Iteration {0:3d} objective {1}\".format(step,\n",
        "                                                      objective(params, step)))"
      ],
      "metadata": {
        "id": "_YsNx2-1fhOn"
      },
      "execution_count": 35,
      "outputs": []
    },
    {
      "cell_type": "code",
      "source": [
        "params = adam(grad(objective), params,\n",
        "              step_size=0.01, num_iters=1000, callback=callback) "
      ],
      "metadata": {
        "colab": {
          "base_uri": "https://localhost:8080/"
        },
        "id": "C67WnNGBgAZu",
        "outputId": "e942fe14-ba8c-460f-c498-40ea37d1b20f"
      },
      "execution_count": 36,
      "outputs": [
        {
          "output_type": "stream",
          "name": "stdout",
          "text": [
            "Iteration   0 objective [[1.00365618]]\n",
            "Iteration 100 objective [[0.27700177]]\n",
            "Iteration 200 objective [[0.26364738]]\n",
            "Iteration 300 objective [[0.26204036]]\n",
            "Iteration 400 objective [[0.25179253]]\n",
            "Iteration 500 objective [[0.2276217]]\n",
            "Iteration 600 objective [[0.17132949]]\n",
            "Iteration 700 objective [[0.07451559]]\n",
            "Iteration 800 objective [[0.02293198]]\n",
            "Iteration 900 objective [[0.01082061]]\n"
          ]
        }
      ]
    },
    {
      "cell_type": "code",
      "source": [
        "soln_exact = np.exp(3 - 0.5*x) / np.sin(np.sqrt(3)*3) * np.sin(np.sqrt(3)/2 * x)"
      ],
      "metadata": {
        "id": "nxiKC3bvhN8O"
      },
      "execution_count": 37,
      "outputs": []
    },
    {
      "cell_type": "code",
      "source": [
        "plt.figure(figsize=(10,6))\n",
        "plt.plot(x, f(params, x), label='NN approx.')\n",
        "plt.plot(x, soln_exact, label='exact')\n",
        "plt.xlabel('$x$')\n",
        "plt.ylabel('$f(x)$')\n",
        "# plt.xlim([0, 6])\n",
        "# plt.ylim([0, 4.5])\n",
        "plt.legend()\n",
        "plt.show()"
      ],
      "metadata": {
        "colab": {
          "base_uri": "https://localhost:8080/",
          "height": 388
        },
        "id": "xWctjDJ7fnu_",
        "outputId": "4b88f64b-b603-4520-8e75-8c9e4fbaf9eb"
      },
      "execution_count": 38,
      "outputs": [
        {
          "output_type": "display_data",
          "data": {
            "text/plain": [
              "<Figure size 720x432 with 1 Axes>"
            ],
            "image/png": "[encoded data removed]"
          },
          "metadata": {
            "needs_background": "light"
          }
        }
      ]
    },
    {
      "cell_type": "code",
      "source": [
        ""
      ],
      "metadata": {
        "id": "0vuwGYR3fuJU"
      },
      "execution_count": 10,
      "outputs": []
    }
  ]
}